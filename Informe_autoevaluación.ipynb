{
  "nbformat": 4,
  "nbformat_minor": 0,
  "metadata": {
    "colab": {
      "name": "Informe autoevaluación",
      "provenance": [],
      "collapsed_sections": []
    },
    "kernelspec": {
      "name": "python3",
      "display_name": "Python 3"
    },
    "language_info": {
      "name": "python"
    }
  },
  "cells": [
    {
      "cell_type": "markdown",
      "source": [
        "<p align = \"center\">\n",
        "<b>Informe de autoevaluación-Primer proyecto de Programación orientada a objetos</b>\n",
        "</p>\n",
        "<hr> \n",
        "Juan Francesco García Vargas\n",
        "Ingieneria de sistemas y computación\n",
        "\n",
        "<b><i>Problemas a la hora del desarrollo del proyecto:</b></i>\n",
        "<br>\n",
        "<h6>\n",
        "Durante el proceso del desarrollo del proyecto se presentaron varios inconvenientes, estos, será necesarios dividirlos en las diferentes etapas de desarrollo de software\n",
        "</h6>\n",
        "<ol type = \"1\">\n",
        "<li>Proceso de abstrancción y obtención de variables y requerimientos:\n",
        "<br>\n",
        "En este proceso los problemas presentados se relacionaban directamente con la dificultad para sacar todas las variables de un problema. Entendiendo que la situación se hace más complicada cuando el desarrollo del software es en equipo, se llegaban a presentar situaciones de diferencia, cosas como definir algun elemento del enunciado como clase o atributo.</li>\n",
        "<li>\n",
        "Proceso de diseño del sofware:\n",
        "<br>\n",
        "Ya una vez la abstracción el problema realizada, se realiza el diseño del software, para este caso en un modelo UML de diagrama de clases. En ese punto el principal problema fue el de la relación de muchos a muchos entre los propietarios y las mascotas. Pues se comenzaba a dibagar entre, vectores, mapas asociados a listas, etc.\n",
        "</li>\n",
        "<li>\n",
        "Codificación:\n",
        "<br>\n",
        "Con todo el diseño del programa realizado, los problemas que se presentaron a la hora de codificar fueron varios, los más comunes, errores de sintaxis (falta de punto y coma en alguna linea de codigo, mala iteración en algún bucle for o while, etc). Por otro lado, el uso de los containers de $c++$ (unordered_map y vector), propuso un nuevo nivel de entendimiento de las estructuras de datos, o al menos su uso general (cambios en el proceso de iteración, validación o incluso eliminación de datos ya bien sea en un mapa o en un vector). Finalmente, otro de los problemas presentados en la etapa de codificación, fueron las diferencias entre el estilo de codificación y la lógica de programación en general. Pues el realizar un determinado algoritmo o una función dentro del código podria hacerse de muchas maneras, el problema era encontrar cual de todos estos seria el más eficiente.\n",
        "</li>\n",
        "</ol>\n",
        "<hr>\n",
        "<b><i>Nuevos aprendizajes aprendidos durante el proceso de contrucción del software:</b></i>\n",
        "<br>\n",
        "<h6>\n",
        "Los aprendizajes más significativos para mi persona, tuvieron lugar en, el uso de containers en $c++$ (iteración, y eliminación de datos), relaciones muchos a muchos para el diseño y realización de diagramas UML de clases, y finalmente, mayor entendimiento de las relaciones muchos a muchos en el paradigma orientado a objetos (clases intermedias). \n",
        "</h6>\n",
        "<hr>\n",
        "<b><i>Que me gusto y que no gusto del desarrollo del proyecto</b></i>\n",
        "<h6>\n",
        "Dentro del desarrollo del proyecto, debo afirmar que, me gusto bastante el trabajar junto a distintas estructuras de datos, pues brinda al código un respiro en cuanto a la complejidad computacional. Me gusto bastante tambien el recibir tips en cuanto al paradigma orientado a objetos, pues abre la puerta a una comprensión muchisimo mayor de la programación. En cuanto al trabajo en grupo, siempre se presentará que hay diferencias en cuanto entendimiento de procesos o diseño de codificación, sin embargo, el trabajar con personas distintas hace que aumente la capacidad de entendimiento de un problema, haciendo que un procedimiento, metodo, función o algortimo de un mismo resultado realizandose de distintas maneras.\n",
        "<br>\n",
        "Algo que no fue muy de mi agrado fue el proceso de abstracción del problema, pues el organizar las distintas variables, metodos, y definir los distintos procesos, resulta un trabajo de bastante analisis de requerimiento, llega a ser en ocasiones más pesado que la misma codificación.\n",
        "</h6>\n",
        "<hr>\n",
        "<b><i>¿Qué hizo cada uno de los integrantes del grupo?</b></i>\n",
        "<h6>\n",
        "Todos los integrantes del grupo participaron de los distintos procesos del desarrollo del software, no obstante, mi mayor aporte al proyecto fue presentado en el proceso de codificación. Por parte de mis compañeros, Mateo Ramirez y Juan José Restrepo, hubo más aporte al proyecto desde las etapas de abstracción, requerimientos del software, diseño del software y presentación (readme).\n",
        "En la documentación del código participamos todos.\n",
        "</h6>\n",
        "<hr>\n",
        "<b><i>Autoevaluación y evaluación de mis compañeros</b></i>\n",
        "<h6>\n",
        "Debo decir que todos los integrantes del grupo mostraron disposición y responsabilidad en cada etapa y todo momento del proceso del proyecto. Razón por la cuál, debo afirmar que para mi caso Juan Francesco García Vargas, tendré una autoevaluación en $4.8$, y en el caso de mis compañeros Mateo Ramirez y Juan Jose Restrepo será una calificación de $4.8$ igualmente.\n",
        "El trabajo constantemente era revisado por cada uno de nosotros, realizando una especie de control del trabajo. \n",
        "</h6>\n",
        "\n",
        "\n"
      ],
      "metadata": {
        "id": "nKTXiBKEecx0"
      }
    }
  ]
}